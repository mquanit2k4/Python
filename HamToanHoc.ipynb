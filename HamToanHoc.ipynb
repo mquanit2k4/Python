{
 "cells": [
  {
   "cell_type": "code",
   "execution_count": 2,
   "metadata": {},
   "outputs": [
    {
     "name": "stdout",
     "output_type": "stream",
     "text": [
      "6\n"
     ]
    }
   ],
   "source": [
    "import math \n",
    "# sqrt = square root\n",
    "print(math.sqrt(36))"
   ]
  },
  {
   "cell_type": "code",
   "execution_count": 10,
   "metadata": {},
   "outputs": [
    {
     "name": "stdout",
     "output_type": "stream",
     "text": [
      "6.164414002968976\n",
      "6\n",
      "1.5874010519681994\n",
      "8\n",
      "9\n",
      "3628800\n",
      "50\n",
      "10\n"
     ]
    }
   ],
   "source": [
    "from math import*\n",
    "print(sqrt(38))\n",
    "# isqrt = integer square root\n",
    "print(isqrt(39))\n",
    "\n",
    "# pow = power , tinh can ban 3 cua 4\n",
    "print(pow(4, 1/3))\n",
    "\n",
    "# Lam tron len\n",
    "print(ceil(7.8))\n",
    "# Lam tron xuong\n",
    "print(floor(9.8))\n",
    "\n",
    "# factorial(n) = tinh gia thua cua n\n",
    "print(factorial(10))\n",
    "\n",
    "# gcd(a,b) (greatest common divisor) = tinh UCLN cua 2 so a va b\n",
    "print(gcd(100,450))\n",
    "\n",
    "# comb(n,k) = C_k_n (combination) tinh to hop chap k cua n\n",
    "print(comb(5,3))\n"
   ]
  },
  {
   "cell_type": "code",
   "execution_count": 17,
   "metadata": {},
   "outputs": [
    {
     "name": "stdout",
     "output_type": "stream",
     "text": [
      "234.4343\n",
      "29\n",
      "756\n",
      "83\n"
     ]
    }
   ],
   "source": [
    "print(abs(-234.4343))\n",
    "print(round(29.43434))\n",
    "print(max([1,3,5,76,4,54,3,65,7,67,5,45,756,45]))\n",
    "print(sum([1,2,3,43,34]))"
   ]
  }
 ],
 "metadata": {
  "kernelspec": {
   "display_name": "Python 3",
   "language": "python",
   "name": "python3"
  },
  "language_info": {
   "codemirror_mode": {
    "name": "ipython",
    "version": 3
   },
   "file_extension": ".py",
   "mimetype": "text/x-python",
   "name": "python",
   "nbconvert_exporter": "python",
   "pygments_lexer": "ipython3",
   "version": "3.9.13"
  }
 },
 "nbformat": 4,
 "nbformat_minor": 2
}
