{
 "cells": [
  {
   "cell_type": "code",
   "execution_count": 1,
   "metadata": {},
   "outputs": [
    {
     "name": "stdout",
     "output_type": "stream",
     "text": [
      "<class 'str'>\n",
      "10\n"
     ]
    }
   ],
   "source": [
    "a = input('Nhap so: ')\n",
    "print(type(a))\n",
    "print(a)"
   ]
  },
  {
   "cell_type": "code",
   "execution_count": 6,
   "metadata": {},
   "outputs": [
    {
     "name": "stdout",
     "output_type": "stream",
     "text": [
      "<class 'float'>\n",
      "384.43\n"
     ]
    }
   ],
   "source": [
    "a = float(input('Nhap so'))\n",
    "print(type(a))\n",
    "print('{:.2f}'.format(a) )"
   ]
  },
  {
   "cell_type": "code",
   "execution_count": 9,
   "metadata": {},
   "outputs": [
    {
     "name": "stdout",
     "output_type": "stream",
     "text": [
      "['100', '200', '300']\n",
      "600\n"
     ]
    }
   ],
   "source": [
    "# Buoc 1: Nhap\n",
    "a = input(\"Nhap 3 so: \")\n",
    "# Buoc 2: Tach so\n",
    "s = a.split()\n",
    "# Buoc 3: Ep kieu va in ra 3 so do\n",
    "print(s)\n",
    "# Buoc 4: Su dung ham map de ep cac phan tu sang kieu du lieu mong muon\n",
    "x , y, z = map(int , s)\n",
    "print(x+y+z)"
   ]
  },
  {
   "cell_type": "code",
   "execution_count": 10,
   "metadata": {},
   "outputs": [
    {
     "name": "stdout",
     "output_type": "stream",
     "text": [
      "100 200 300\n"
     ]
    }
   ],
   "source": [
    "# Nhap cac so tren cung mot dong\n",
    "a , b , c = map(int, input().split())\n",
    "print (a,b,c)"
   ]
  }
 ],
 "metadata": {
  "kernelspec": {
   "display_name": "Python 3",
   "language": "python",
   "name": "python3"
  },
  "language_info": {
   "codemirror_mode": {
    "name": "ipython",
    "version": 3
   },
   "file_extension": ".py",
   "mimetype": "text/x-python",
   "name": "python",
   "nbconvert_exporter": "python",
   "pygments_lexer": "ipython3",
   "version": "3.9.13"
  }
 },
 "nbformat": 4,
 "nbformat_minor": 2
}
