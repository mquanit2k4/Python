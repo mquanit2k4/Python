{
 "cells": [
  {
   "cell_type": "code",
   "execution_count": 1,
   "metadata": {},
   "outputs": [
    {
     "name": "stdout",
     "output_type": "stream",
     "text": [
      "23\n"
     ]
    }
   ],
   "source": [
    "x = int(input())\n",
    "print(x**3+3*(x**2)+x+1)"
   ]
  },
  {
   "cell_type": "code",
   "execution_count": 2,
   "metadata": {},
   "outputs": [
    {
     "name": "stdout",
     "output_type": "stream",
     "text": [
      "13\n"
     ]
    }
   ],
   "source": [
    "a , b , c = map(int , input().split())\n",
    "print(a*(b+c)+b*(a+c))"
   ]
  },
  {
   "cell_type": "code",
   "execution_count": 3,
   "metadata": {},
   "outputs": [
    {
     "name": "stdout",
     "output_type": "stream",
     "text": [
      "75.20\n"
     ]
    }
   ],
   "source": [
    "C = int(input())\n",
    "F = (C * 9 / 5) + 32\n",
    "print('%.2f' % F)"
   ]
  },
  {
   "cell_type": "code",
   "execution_count": 5,
   "metadata": {},
   "outputs": [
    {
     "name": "stdout",
     "output_type": "stream",
     "text": [
      "62.8000 314.0000\n"
     ]
    }
   ],
   "source": [
    "R = int(input())\n",
    "PI = 3.14\n",
    "P = 2*PI*R\n",
    "S = PI*R*R\n",
    "print('%.4f' % P , '%.4f' % S)"
   ]
  },
  {
   "cell_type": "code",
   "execution_count": 7,
   "metadata": {},
   "outputs": [
    {
     "name": "stdout",
     "output_type": "stream",
     "text": [
      "5.00\n"
     ]
    }
   ],
   "source": [
    "from math import*\n",
    "x1 , y1 , x2 , y2 = map(int , input().split())\n",
    "distance  = sqrt(pow(x2-x1,2) + pow(y2-y1,2))\n",
    "print('%.2f' % distance)"
   ]
  },
  {
   "cell_type": "code",
   "execution_count": 8,
   "metadata": {},
   "outputs": [
    {
     "name": "stdout",
     "output_type": "stream",
     "text": [
      "NO\n",
      "NO\n",
      "NO\n",
      "NO\n",
      "NO\n",
      "NO\n",
      "NO\n",
      "NO\n",
      "YES\n",
      "YES\n"
     ]
    }
   ],
   "source": [
    "n = int(input())\n",
    "if n%2 == 0:\n",
    "    print('YES')\n",
    "else:\n",
    "    print('NO')\n",
    "if n%3 == 0 and n%5 == 0:\n",
    "    print('YES')\n",
    "else:\n",
    "    print('NO')\n",
    "if n%3 == 0 and n%7 != 0:\n",
    "    print('YES')\n",
    "else:\n",
    "    print('NO')\n",
    "if n%3 == 0 or n%7 == 0:\n",
    "    print('YES')\n",
    "else:\n",
    "    print('NO')\n",
    "if n > 30 and n < 50:\n",
    "    print('YES')\n",
    "else:\n",
    "    print('NO')\n",
    "if n >= 30 and (n%2 == 0 or n%3 == 0 or n%5 == 0):\n",
    "    print('YES')\n",
    "else:\n",
    "    print('NO')\n",
    "cs = n%10\n",
    "if n >= 10 and n <= 99 and (cs == 2 or cs == 3 or cs == 5 or cs == 7):\n",
    "    print('YES')\n",
    "else:\n",
    "    print('NO')\n",
    "if n <= 100 and n%23 == 0:\n",
    "    print('YES')\n",
    "else:\n",
    "    print('NO')\n",
    "if n < 10 or n > 20:\n",
    "    print('YES')\n",
    "else:\n",
    "    print('NO')\n",
    "if cs % 3 == 0:\n",
    "    print('YES')\n",
    "else:\n",
    "    print('NO')"
   ]
  },
  {
   "cell_type": "code",
   "execution_count": 2,
   "metadata": {},
   "outputs": [
    {
     "name": "stdout",
     "output_type": "stream",
     "text": [
      "689\n",
      "1378\n"
     ]
    }
   ],
   "source": [
    "a , b = map(int , input().split())\n",
    "print((a//b)*b)\n",
    "print(((a+b-1)//b)*b)"
   ]
  },
  {
   "cell_type": "code",
   "execution_count": 4,
   "metadata": {},
   "outputs": [
    {
     "name": "stdout",
     "output_type": "stream",
     "text": [
      "7769\n",
      "7769\n",
      "0\n",
      "INVALID\n"
     ]
    }
   ],
   "source": [
    "a , b = map(int , input().split())\n",
    "print(a+b)\n",
    "print(a-b)\n",
    "print(a*b)\n",
    "if b == 0:\n",
    "    print('INVALID')\n",
    "else:\n",
    "    print('%.4f' % (a/b))\n"
   ]
  },
  {
   "cell_type": "code",
   "execution_count": 6,
   "metadata": {},
   "outputs": [
    {
     "name": "stdout",
     "output_type": "stream",
     "text": [
      "YES\n"
     ]
    }
   ],
   "source": [
    "year = int(input())\n",
    "if year % 400 == 0 or (year % 4 == 0 and year % 100 !=0):\n",
    "    print('YES')\n",
    "else:\n",
    "    print('NO')"
   ]
  },
  {
   "cell_type": "code",
   "execution_count": 9,
   "metadata": {},
   "outputs": [
    {
     "name": "stdout",
     "output_type": "stream",
     "text": [
      "1\n"
     ]
    }
   ],
   "source": [
    "a , b ,c = map(int , input().split())\n",
    "x = a + b\n",
    "y = a + c\n",
    "z = b + c \n",
    "if a>0 and b>0 and c>0 and x > c and y > b and z > a:\n",
    "    if a == b and b == c:\n",
    "        print(1)\n",
    "    elif a == b or a == c or b == c:\n",
    "        print(2)\n",
    "    elif a*a == b*b + c*c or a*a + b*b == c*c or a*a + c*c == b*b:\n",
    "        print(3)\n",
    "    else:\n",
    "        print(4)\n",
    "else:\n",
    "    print(\"INVALID\")"
   ]
  },
  {
   "cell_type": "code",
   "execution_count": 13,
   "metadata": {},
   "outputs": [
    {
     "name": "stdout",
     "output_type": "stream",
     "text": [
      "29\n"
     ]
    }
   ],
   "source": [
    "day ,year = map(int, input().split())\n",
    "if day >= 1 and day <= 12 and year > 0:\n",
    "    if day == 1 or day == 3 or day == 5 or day == 7 or day == 8 or day == 10 or day == 12:\n",
    "        print(31)\n",
    "    elif day == 2:\n",
    "        if year % 400 == 0 or (year % 4 == 0 and year % 100 != 0):\n",
    "            print(29)\n",
    "        else:\n",
    "            print(28)\n",
    "    else:\n",
    "        print(30)\n",
    "else:\n",
    "    print('INVALID')\n",
    "    \n",
    " "
   ]
  },
  {
   "cell_type": "code",
   "execution_count": 14,
   "metadata": {},
   "outputs": [
    {
     "name": "stdout",
     "output_type": "stream",
     "text": [
      "1 1 1\n"
     ]
    }
   ],
   "source": [
    "n = int(input())\n",
    "year = n // 365\n",
    "week = (n - 365*year) // 7\n",
    "date = n - year*365 - 7*week\n",
    "print(year,week,date)"
   ]
  },
  {
   "cell_type": "code",
   "execution_count": 16,
   "metadata": {},
   "outputs": [
    {
     "name": "stdout",
     "output_type": "stream",
     "text": [
      "TRUNG BINH\n"
     ]
    }
   ],
   "source": [
    "a, b , c, d = map(float, input().split())\n",
    "DTB = (a+b+c*2+d*3)/7\n",
    "if DTB >= 8:\n",
    "    print('GIOI')\n",
    "elif DTB < 8 and DTB >= 6.5:\n",
    "    print('KHA')\n",
    "elif DTB < 6.5 and DTB >= 5:\n",
    "    print(\"TRUNG BINH\")\n",
    "else:\n",
    "    print(\"YEU\")\n"
   ]
  },
  {
   "cell_type": "code",
   "execution_count": 18,
   "metadata": {
    "tags": []
   },
   "outputs": [
    {
     "name": "stdout",
     "output_type": "stream",
     "text": [
      "23\n"
     ]
    }
   ],
   "source": [
    "n ,a , b = map(int, input().split())\n",
    "if a <= 2*b:\n",
    "    print(int(n*a))\n",
    "else:\n",
    "    if n % 2 == 0:\n",
    "        print(int(b*(n/2)))\n",
    "    else:\n",
    "        print(int(b*(n//2)+a))"
   ]
  },
  {
   "cell_type": "code",
   "execution_count": 27,
   "metadata": {},
   "outputs": [
    {
     "name": "stdout",
     "output_type": "stream",
     "text": [
      "c\n"
     ]
    }
   ],
   "source": [
    "c = str(input())\n",
    "if c >= 'A' and c <= 'Y':\n",
    "    c = chr(ord(c)+33) # ord(c) = ma Unicode cua ki tu c trong bang ma ASCII\n",
    "    print(c)\n",
    "elif c >= 'a' and c <= 'y':\n",
    "    c = chr(ord(c)+1) # ham chr(ord(c)) chuyen ma Unicode sang ky tu tuong ung\n",
    "    print(c)\n",
    "elif c == \"Z\" or c == 'z':\n",
    "    print('a')\n"
   ]
  },
  {
   "cell_type": "code",
   "execution_count": 30,
   "metadata": {},
   "outputs": [
    {
     "name": "stdout",
     "output_type": "stream",
     "text": [
      "UPPER\n"
     ]
    }
   ],
   "source": [
    "c = input()\n",
    "if c.isupper():\n",
    "    print(\"UPPER\")\n",
    "elif c.islower():\n",
    "    print(\"LOWER\")\n",
    "elif c.isdigit():\n",
    "    print('DIGIT')\n",
    "else:\n",
    "    print(\"SPECIAL\")"
   ]
  },
  {
   "cell_type": "code",
   "execution_count": 35,
   "metadata": {},
   "outputs": [
    {
     "name": "stdout",
     "output_type": "stream",
     "text": [
      "23\n"
     ]
    }
   ],
   "source": [
    "c = input()\n",
    "if (c >= 'A' and c <= 'Z') or (c >= 'a' and c <= 'z'):\n",
    "    if c.isupper():\n",
    "        c = c.lower()\n",
    "    elif c.lower():\n",
    "        c = c.upper()\n",
    "print(c)"
   ]
  },
  {
   "cell_type": "code",
   "execution_count": 40,
   "metadata": {},
   "outputs": [
    {
     "name": "stdout",
     "output_type": "stream",
     "text": [
      "4\n"
     ]
    }
   ],
   "source": [
    "m ,n = map(int, input().split())\n",
    "print(int(m*n)//2)"
   ]
  },
  {
   "cell_type": "code",
   "execution_count": 41,
   "metadata": {},
   "outputs": [
    {
     "name": "stdout",
     "output_type": "stream",
     "text": [
      "4\n"
     ]
    }
   ],
   "source": [
    "n , m , a = map(int , input().split())\n",
    "if n % a == 0:\n",
    "    d = n // a\n",
    "else:\n",
    "    d = n // a +1\n",
    "if m % a == 0:\n",
    "    r = m // a\n",
    "else:\n",
    "    r = m // a +1\n",
    "print(int(d*r))\n"
   ]
  },
  {
   "cell_type": "code",
   "execution_count": 1,
   "metadata": {},
   "outputs": [
    {
     "name": "stdout",
     "output_type": "stream",
     "text": [
      "8\n"
     ]
    }
   ],
   "source": [
    "a , b , k = map(int , input().split())\n",
    "if k%2 ==0:\n",
    "    vt = a*(k//2) - b*(k//2)\n",
    "else:\n",
    "    vt = a*((k+1)//2) - b*((k-1)//2)\n",
    "print(int(vt))"
   ]
  },
  {
   "cell_type": "code",
   "execution_count": 6,
   "metadata": {},
   "outputs": [
    {
     "name": "stdout",
     "output_type": "stream",
     "text": [
      "7\n"
     ]
    }
   ],
   "source": [
    "n , s = map(int , input().split())\n",
    "if s % n == 0:\n",
    "    count = s//n\n",
    "else:\n",
    "    count = s//n + 1\n",
    "print(count)"
   ]
  },
  {
   "cell_type": "code",
   "execution_count": 8,
   "metadata": {},
   "outputs": [
    {
     "name": "stdout",
     "output_type": "stream",
     "text": [
      "6\n"
     ]
    }
   ],
   "source": [
    "n , m = map(int , input().split())\n",
    "min_step , max_step = 0 , n\n",
    "if n%2 == 0:\n",
    "    min_step = n//2\n",
    "else:\n",
    "    min_step = n//2 + 1\n",
    "# Tim so nho nhat trong [min_step;max_step] chia het cho m\n",
    "# Ap dung cong thuc tim so nho nhat >= a ma chia het cho b: ((a+b-1)/b)*b\n",
    "ans = (min_step + m -1) // m * m\n",
    "if ans <= max_step:\n",
    "    print(int(ans))\n",
    "else:\n",
    "    print(-1)"
   ]
  },
  {
   "cell_type": "code",
   "execution_count": 9,
   "metadata": {},
   "outputs": [
    {
     "name": "stdout",
     "output_type": "stream",
     "text": [
      "658\n"
     ]
    }
   ],
   "source": [
    "d1 , d2 , d3 = map(int , input().split())\n",
    "c1 = d1*2 + d2*2\n",
    "c2 = d1 + d2 + d3\n",
    "c3 = d2*2 + d3*2\n",
    "c4 = d1*2 + d3*2\n",
    "ans = min([c1,c2,c3,c4])\n",
    "print(ans)"
   ]
  },
  {
   "cell_type": "code",
   "execution_count": 11,
   "metadata": {},
   "outputs": [
    {
     "name": "stdout",
     "output_type": "stream",
     "text": [
      "38\n"
     ]
    }
   ],
   "source": [
    "n = int(input())\n",
    "s100 = n // 100\n",
    "n = n - 100*s100\n",
    "s20 = n // 20\n",
    "n = n - 20*s20\n",
    "s10 = n // 10\n",
    "n = n - 10*s10\n",
    "s5 = n // 5\n",
    "n = n - 5*s5\n",
    "ans = s100 + s20 + s10 + s5 + n\n",
    "print(ans)"
   ]
  },
  {
   "cell_type": "code",
   "execution_count": 12,
   "metadata": {},
   "outputs": [
    {
     "name": "stdout",
     "output_type": "stream",
     "text": [
      "839 272\n"
     ]
    }
   ],
   "source": [
    "a , b , c, d = map(int , input().split())\n",
    "max_int = max([a,b,c,d])\n",
    "min_int = min([a,b,c,d])\n",
    "print(max_int, min_int)"
   ]
  },
  {
   "cell_type": "code",
   "execution_count": 14,
   "metadata": {},
   "outputs": [
    {
     "name": "stdout",
     "output_type": "stream",
     "text": [
      "16\n"
     ]
    }
   ],
   "source": [
    "n = float(input())\n",
    "ans = round(n)\n",
    "print(ans)"
   ]
  },
  {
   "cell_type": "code",
   "execution_count": 17,
   "metadata": {},
   "outputs": [
    {
     "name": "stdout",
     "output_type": "stream",
     "text": [
      "759924842.0\n"
     ]
    }
   ],
   "source": [
    "n , u1 , d = map(int , input().split())\n",
    "ans = n*(2*u1+(n-1)*d)/2\n",
    "print(int(ans))"
   ]
  },
  {
   "cell_type": "code",
   "execution_count": 18,
   "metadata": {},
   "outputs": [
    {
     "name": "stdout",
     "output_type": "stream",
     "text": [
      "YES\n"
     ]
    }
   ],
   "source": [
    "a , b , c , d = map(int , input().split())\n",
    "q = b / a\n",
    "if b*q == c and c*q == d:\n",
    "    print('YES')\n",
    "else:\n",
    "    print('NO')"
   ]
  },
  {
   "cell_type": "code",
   "execution_count": 19,
   "metadata": {},
   "outputs": [
    {
     "name": "stdout",
     "output_type": "stream",
     "text": [
      "6\n"
     ]
    }
   ],
   "source": [
    "from math import*\n",
    "n = int(input())\n",
    "ans = comb(n,2)\n",
    "print(int(ans))"
   ]
  },
  {
   "cell_type": "code",
   "execution_count": 21,
   "metadata": {},
   "outputs": [
    {
     "name": "stdout",
     "output_type": "stream",
     "text": [
      "NO\n"
     ]
    }
   ],
   "source": [
    "a1 , a2 , a3 , b1 , b2 , b3 = map(int , input().split())\n",
    "n = int(input())\n",
    "cup = a1 + a2 + a3\n",
    "medal = b1 + b2 + b3\n",
    "if cup % 5 == 0:\n",
    "    ke_cup = cup // 5\n",
    "else:\n",
    "    ke_cup = cup // 5 + 1\n",
    "if medal % 10 == 0:\n",
    "    ke_medal = medal // 10\n",
    "else:\n",
    "    ke_medal = medal // 10 + 1\n",
    "ans = ke_cup + ke_medal\n",
    "if ans <= n:\n",
    "    print(\"YES\")\n",
    "else:\n",
    "    print('NO')"
   ]
  },
  {
   "cell_type": "code",
   "execution_count": 22,
   "metadata": {},
   "outputs": [
    {
     "name": "stdout",
     "output_type": "stream",
     "text": [
      "800\n"
     ]
    }
   ],
   "source": [
    "k2 , k3 , k5 , k6 = map(int , input().split())\n",
    "big = min([k2,k5,k6])\n",
    "k2 = k2 - big\n",
    "small = min(k2,k3)\n",
    "ans = big*256 + small*32\n",
    "print(ans)"
   ]
  },
  {
   "cell_type": "code",
   "execution_count": 24,
   "metadata": {},
   "outputs": [
    {
     "name": "stdout",
     "output_type": "stream",
     "text": [
      "NO\n"
     ]
    }
   ],
   "source": [
    "a , b , c , n = map(int , input().split())\n",
    "sum = a + b + c + n\n",
    "if sum % 3 == 0 and sum//3 >= a and sum//3 >= b and sum//3 >= c:\n",
    "    print('YES')\n",
    "else:\n",
    "    print('NO')\n",
    "    "
   ]
  },
  {
   "cell_type": "code",
   "execution_count": 25,
   "metadata": {},
   "outputs": [
    {
     "name": "stdout",
     "output_type": "stream",
     "text": [
      "3\n"
     ]
    }
   ],
   "source": [
    "c1 , c2 , c3 , c4 , c5 = map(int , input().split())\n",
    "sum = c1 + c2 + c3 + c4 + c5\n",
    "if sum % 5 == 0 and sum//5 > 0:\n",
    "    print(sum//5)\n",
    "else:\n",
    "    print(-1)"
   ]
  },
  {
   "cell_type": "code",
   "execution_count": 26,
   "metadata": {},
   "outputs": [
    {
     "name": "stdout",
     "output_type": "stream",
     "text": [
      "60\n"
     ]
    }
   ],
   "source": [
    "h , m = map(int , input().split())\n",
    "hour = 24 - h\n",
    "if m != 0:\n",
    "    minute = 60-m\n",
    "else:\n",
    "    minute = 60\n",
    "ans = (hour-1)*60 + minute\n",
    "print(ans)"
   ]
  },
  {
   "cell_type": "code",
   "execution_count": 33,
   "metadata": {},
   "outputs": [
    {
     "name": "stdout",
     "output_type": "stream",
     "text": [
      "-2.00 -0.67\n"
     ]
    }
   ],
   "source": [
    "from math import*\n",
    "a , b , c = map(int , input().split())\n",
    "if a == 0:\n",
    "    if b == 0:\n",
    "        if c == 0:\n",
    "            print('VO SO NGHIEM')\n",
    "        else:\n",
    "            print('VO NGHIEM')\n",
    "    else:\n",
    "        x = -c / b\n",
    "        print('%.2f' % x)\n",
    "else:\n",
    "    delta = b*b - 4*a*c \n",
    "    if delta > 0:\n",
    "        x1 = (-b + sqrt(delta))/(2*a)\n",
    "        x2 = (-b - sqrt(delta))/(2*a)\n",
    "        print('%.2f' % x2 , '%.2f' % x1)\n",
    "    elif delta == 0:\n",
    "        x = -b / 2*a\n",
    "        print('%.2f' % x)\n",
    "    else:\n",
    "        print('VO NGHIEM')"
   ]
  }
 ],
 "metadata": {
  "kernelspec": {
   "display_name": "Python 3",
   "language": "python",
   "name": "python3"
  },
  "language_info": {
   "codemirror_mode": {
    "name": "ipython",
    "version": 3
   },
   "file_extension": ".py",
   "mimetype": "text/x-python",
   "name": "python",
   "nbconvert_exporter": "python",
   "pygments_lexer": "ipython3",
   "version": "3.9.13"
  }
 },
 "nbformat": 4,
 "nbformat_minor": 2
}
