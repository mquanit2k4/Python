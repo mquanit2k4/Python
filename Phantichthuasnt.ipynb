{
 "cells": [
  {
   "cell_type": "code",
   "execution_count": 1,
   "metadata": {},
   "outputs": [
    {
     "name": "stdout",
     "output_type": "stream",
     "text": [
      "2^2 * 3^2"
     ]
    }
   ],
   "source": [
    "from math import*\n",
    "n = int(input())\n",
    "k = isqrt(n)\n",
    "for i in range(2,k+1):\n",
    "    if n % i == 0:\n",
    "        mu = 0\n",
    "        while n % i == 0:\n",
    "            mu += 1\n",
    "            n //= i\n",
    "        print(i,mu,sep='^',end='')\n",
    "        if n != 1:\n",
    "            print(' * ',end='')\n",
    "if n > 1:\n",
    "    print(n,1,sep='^')"
   ]
  },
  {
   "cell_type": "code",
   "execution_count": 51,
   "metadata": {},
   "outputs": [
    {
     "name": "stdout",
     "output_type": "stream",
     "text": [
      "13\n"
     ]
    }
   ],
   "source": [
    "from math import*\n",
    "def thuaSNT(n):\n",
    "    k = isqrt(n)\n",
    "    for i in range(2,k+1):\n",
    "        if n % i == 0:\n",
    "            while n % i == 0:\n",
    "                print(i,end= ' ')\n",
    "                n //= i\n",
    "    if n > 1:\n",
    "        print(n)\n",
    "if __name__ == '__main__':\n",
    "    n = int(input())\n",
    "    thuaSNT(n)"
   ]
  },
  {
   "cell_type": "code",
   "execution_count": 12,
   "metadata": {},
   "outputs": [
    {
     "name": "stdout",
     "output_type": "stream",
     "text": [
      "2 2 3 5 "
     ]
    }
   ],
   "source": [
    "from math import*\n",
    "n = int(input())\n",
    "k = isqrt(n)\n",
    "i = 2\n",
    "while n > 2:\n",
    "    if n % i == 0:\n",
    "        print(i,end = ' ')\n",
    "        n = n//i\n",
    "    else:\n",
    "        i+=1"
   ]
  }
 ],
 "metadata": {
  "kernelspec": {
   "display_name": "Python 3",
   "language": "python",
   "name": "python3"
  },
  "language_info": {
   "codemirror_mode": {
    "name": "ipython",
    "version": 3
   },
   "file_extension": ".py",
   "mimetype": "text/x-python",
   "name": "python",
   "nbconvert_exporter": "python",
   "pygments_lexer": "ipython3",
   "version": "3.9.13"
  }
 },
 "nbformat": 4,
 "nbformat_minor": 2
}
