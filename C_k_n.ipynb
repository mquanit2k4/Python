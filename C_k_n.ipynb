{
 "cells": [
  {
   "cell_type": "code",
   "execution_count": 5,
   "metadata": {},
   "outputs": [
    {
     "name": "stdout",
     "output_type": "stream",
     "text": [
      "10\n"
     ]
    }
   ],
   "source": [
    "from math import*\n",
    "# Dung ham co san trong thu vien math\n",
    "def C(k,n):\n",
    "    return comb(n,k)\n",
    "\n",
    "# Dung cong thuc\n",
    "def Ce(k,n):\n",
    "    return factorial(n)//(factorial(k)*factorial(n-k))\n",
    "\n",
    "if __name__ == '__main__':\n",
    "    k , n = map(int, input().split())\n",
    "    print(Ce(k,n))\n"
   ]
  }
 ],
 "metadata": {
  "kernelspec": {
   "display_name": "Python 3",
   "language": "python",
   "name": "python3"
  },
  "language_info": {
   "codemirror_mode": {
    "name": "ipython",
    "version": 3
   },
   "file_extension": ".py",
   "mimetype": "text/x-python",
   "name": "python",
   "nbconvert_exporter": "python",
   "pygments_lexer": "ipython3",
   "version": "3.9.13"
  }
 },
 "nbformat": 4,
 "nbformat_minor": 2
}
