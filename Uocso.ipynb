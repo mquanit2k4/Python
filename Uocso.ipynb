{
 "cells": [
  {
   "cell_type": "code",
   "execution_count": 9,
   "metadata": {},
   "outputs": [
    {
     "name": "stdout",
     "output_type": "stream",
     "text": [
      "3 13\n"
     ]
    }
   ],
   "source": [
    "from math import*\n",
    "# Dem uoc so cua so nguyen n\n",
    "def count_divisor (n):\n",
    "    sum_divisor = 0\n",
    "    count = 0\n",
    "    k = int(sqrt(n))\n",
    "    for i in range(1,k+1):\n",
    "        if n % i == 0:\n",
    "            if i*i != n:\n",
    "                count += 2\n",
    "                sum_divisor += i + n // i\n",
    "            else:\n",
    "                count += 1\n",
    "                sum_divisor += i\n",
    "    return count, sum_divisor\n",
    "if __name__ == '__main__':\n",
    "     n = int(input())\n",
    "     so_uoc , tong_uoc = count_divisor(n)\n",
    "     print(so_uoc, tong_uoc)"
   ]
  },
  {
   "cell_type": "code",
   "execution_count": 12,
   "metadata": {},
   "outputs": [
    {
     "name": "stdout",
     "output_type": "stream",
     "text": [
      "3 13\n"
     ]
    }
   ],
   "source": [
    "from math import*\n",
    "# Dem uoc\n",
    "def count_divisor(n):\n",
    "    k = int(sqrt(n))\n",
    "    count = 0\n",
    "    for i in range(1,k+1):\n",
    "        if n % i == 0:\n",
    "            count += 1\n",
    "            if i != n // i:\n",
    "                count += 1\n",
    "    return count\n",
    "\n",
    "# Tinh tong cac uoc\n",
    "def sum_divisor(n):\n",
    "    k = isqrt(n)\n",
    "    sum = 0\n",
    "    for i in range(1,k+1):\n",
    "        if n % i == 0:\n",
    "            sum += i\n",
    "            if i != n // i:\n",
    "                sum += n // i\n",
    "    return sum\n",
    "\n",
    "if __name__ == '__main__':\n",
    "    n = int(input())\n",
    "    so_uoc = count_divisor(n)\n",
    "    tong_uoc = sum_divisor(n)\n",
    "    print(so_uoc , tong_uoc)"
   ]
  }
 ],
 "metadata": {
  "kernelspec": {
   "display_name": "Python 3",
   "language": "python",
   "name": "python3"
  },
  "language_info": {
   "codemirror_mode": {
    "name": "ipython",
    "version": 3
   },
   "file_extension": ".py",
   "mimetype": "text/x-python",
   "name": "python",
   "nbconvert_exporter": "python",
   "pygments_lexer": "ipython3",
   "version": "3.9.13"
  }
 },
 "nbformat": 4,
 "nbformat_minor": 2
}
