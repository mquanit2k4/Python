{
 "cells": [
  {
   "cell_type": "code",
   "execution_count": 17,
   "metadata": {},
   "outputs": [
    {
     "name": "stdout",
     "output_type": "stream",
     "text": [
      "1 2 3 4 5 \n",
      "5 4 3 2 1 0 \n",
      "0 2 4 \n",
      "1 3 5 \n",
      "0 4 \n",
      "a b c d e \n",
      "v w x y z "
     ]
    }
   ],
   "source": [
    "n = int(input())\n",
    "for i in range(1,n+1):\n",
    "    print(i, end=' ')\n",
    "print('')\n",
    "for i in range(n,-1,-1):\n",
    "    print(i, end=' ')\n",
    "print()\n",
    "for i in range(0, n+1 , 2):\n",
    "    print(i , end = ' ')\n",
    "print()\n",
    "for i in range(1, n+1 , 2):\n",
    "    print(i , end = ' ')\n",
    "print()\n",
    "for i in range(0, n , 4):\n",
    "    print(i , end = ' ')\n",
    "print()\n",
    "for i in range(0, n):\n",
    "    print(chr(i+97) , end = ' ')\n",
    "print()\n",
    "for i in range(n-1,-1,-1 ):\n",
    "    print(chr(122-i) , end = ' ')"
   ]
  },
  {
   "cell_type": "code",
   "execution_count": 21,
   "metadata": {},
   "outputs": [
    {
     "name": "stdout",
     "output_type": "stream",
     "text": [
      "15\n"
     ]
    }
   ],
   "source": [
    "n = int(input())\n",
    "sum = 0\n",
    "for i in range(1,n+1):\n",
    "    sum += i\n",
    "print(sum)"
   ]
  },
  {
   "cell_type": "code",
   "execution_count": 22,
   "metadata": {},
   "outputs": [
    {
     "name": "stdout",
     "output_type": "stream",
     "text": [
      "55\n"
     ]
    }
   ],
   "source": [
    "n = int(input())\n",
    "sum = 0\n",
    "for i in range(1,n+1):\n",
    "    sum += i*i \n",
    "print(sum)"
   ]
  },
  {
   "cell_type": "code",
   "execution_count": 27,
   "metadata": {},
   "outputs": [
    {
     "name": "stdout",
     "output_type": "stream",
     "text": [
      "3\n"
     ]
    }
   ],
   "source": [
    "n = int(input())\n",
    "sum = 0\n",
    "for i in range(1,n+1):\n",
    "    if i%3 == 0:\n",
    "        sum += i  \n",
    "print(sum)"
   ]
  },
  {
   "cell_type": "code",
   "execution_count": 25,
   "metadata": {},
   "outputs": [
    {
     "name": "stdout",
     "output_type": "stream",
     "text": [
      "7.19328\n"
     ]
    }
   ],
   "source": [
    "n = int(input())\n",
    "sum = 0\n",
    "for i in range(2,2*n+1,2):\n",
    "    sum += 1/i  \n",
    "print('%.5f' % sum)"
   ]
  },
  {
   "cell_type": "code",
   "execution_count": 28,
   "metadata": {},
   "outputs": [
    {
     "name": "stdout",
     "output_type": "stream",
     "text": [
      "1.500\n"
     ]
    }
   ],
   "source": [
    "n = int(input())\n",
    "sum = 0\n",
    "for i in range(1,n+1):\n",
    "    sum += 1/i  \n",
    "print('%.3f' % sum)"
   ]
  },
  {
   "cell_type": "code",
   "execution_count": 39,
   "metadata": {},
   "outputs": [
    {
     "name": "stdout",
     "output_type": "stream",
     "text": [
      "24\n"
     ]
    }
   ],
   "source": [
    "from math import*\n",
    "n = int(input())\n",
    "k = int(sqrt(n))\n",
    "sum = 0\n",
    "for i in range(1,k+1):\n",
    "    if n % i == 0:\n",
    "        if i*i != n:\n",
    "            sum += i + n//i \n",
    "        else:\n",
    "            sum += i\n",
    "print(sum)\n"
   ]
  },
  {
   "cell_type": "code",
   "execution_count": 40,
   "metadata": {},
   "outputs": [
    {
     "name": "stdout",
     "output_type": "stream",
     "text": [
      "6\n",
      "1 2 4 7 14 28 "
     ]
    }
   ],
   "source": [
    "from math import*\n",
    "n = int(input())\n",
    "k = int(sqrt(n))\n",
    "count = 0\n",
    "for i in range(1,k+1):\n",
    "    if n % i == 0:\n",
    "        if i*i != n:\n",
    "            count += 2 \n",
    "        else:\n",
    "            count += 1\n",
    "print(count)\n",
    "for i in range(1,n+1):\n",
    "    if n%i == 0:\n",
    "        print(i, end = ' ')\n",
    "\n"
   ]
  },
  {
   "cell_type": "code",
   "execution_count": 41,
   "metadata": {},
   "outputs": [
    {
     "name": "stdout",
     "output_type": "stream",
     "text": [
      "1 4 9 16 25 36 49 "
     ]
    }
   ],
   "source": [
    "from math import*\n",
    "n = int(input())\n",
    "k = int(sqrt(n))\n",
    "for i in range(1,k+1):\n",
    "    print(i*i, end = ' ')"
   ]
  },
  {
   "cell_type": "code",
   "execution_count": 42,
   "metadata": {},
   "outputs": [
    {
     "name": "stdout",
     "output_type": "stream",
     "text": [
      "100\n"
     ]
    }
   ],
   "source": [
    "from math import*\n",
    "n = int(input())\n",
    "k = int(sqrt(n))\n",
    "sum = 1\n",
    "for i in range(1,k+1):\n",
    "    if n % i == 0:\n",
    "        if i*i != n:\n",
    "            sum *= i * n//i \n",
    "        else:\n",
    "            sum *= i\n",
    "print(sum)"
   ]
  },
  {
   "cell_type": "code",
   "execution_count": 45,
   "metadata": {},
   "outputs": [
    {
     "name": "stdout",
     "output_type": "stream",
     "text": [
      "YES\n"
     ]
    }
   ],
   "source": [
    "n = int(input())\n",
    "number = list(map(int , input().split()))\n",
    "check = 0\n",
    "for i in number:\n",
    "    if i == 2022:\n",
    "        check = 1\n",
    "        break   \n",
    "if check == 1:\n",
    "    print('YES')\n",
    "else:\n",
    "    print('NO')"
   ]
  },
  {
   "cell_type": "code",
   "execution_count": 46,
   "metadata": {},
   "outputs": [
    {
     "name": "stdout",
     "output_type": "stream",
     "text": [
      "3\n"
     ]
    }
   ],
   "source": [
    "n = int(input())\n",
    "sum = 0\n",
    "for i in range(n+1):\n",
    "    sum += ((-1)**i)*i\n",
    "print(sum)"
   ]
  },
  {
   "cell_type": "code",
   "execution_count": 49,
   "metadata": {},
   "outputs": [
    {
     "name": "stdout",
     "output_type": "stream",
     "text": [
      "36\n"
     ]
    }
   ],
   "source": [
    "n = int(input())\n",
    "sum = 0 \n",
    "for i in range(1,n+1):\n",
    "    sum += i**3\n",
    "print(sum)"
   ]
  },
  {
   "cell_type": "code",
   "execution_count": 52,
   "metadata": {},
   "outputs": [
    {
     "name": "stdout",
     "output_type": "stream",
     "text": [
      "3628800\n"
     ]
    }
   ],
   "source": [
    "n = int(input())\n",
    "tich = 1\n",
    "for i in range(1,n+1):\n",
    "    tich *= i\n",
    "print(tich)"
   ]
  },
  {
   "cell_type": "code",
   "execution_count": 57,
   "metadata": {},
   "outputs": [
    {
     "name": "stdout",
     "output_type": "stream",
     "text": [
      "6\n"
     ]
    }
   ],
   "source": [
    "n = int(input())\n",
    "count = 0\n",
    "while n != 0:\n",
    "    digit = n % 10\n",
    "    if digit == 2 or digit == 3 or digit == 5 or digit == 7:\n",
    "        count +=1\n",
    "    n = n // 10\n",
    "print(count)"
   ]
  },
  {
   "cell_type": "code",
   "execution_count": 59,
   "metadata": {},
   "outputs": [
    {
     "name": "stdout",
     "output_type": "stream",
     "text": [
      "5\n"
     ]
    }
   ],
   "source": [
    "n = int(input())\n",
    "count = n // 28\n",
    "vo_chai = count\n",
    "while vo_chai >= 3:\n",
    "    exch = vo_chai // 3\n",
    "    count += exch\n",
    "    vo_chai = vo_chai - exch*3 + exch\n",
    "print(count)"
   ]
  },
  {
   "cell_type": "code",
   "execution_count": 66,
   "metadata": {},
   "outputs": [
    {
     "name": "stdout",
     "output_type": "stream",
     "text": [
      "7\n",
      "2 2 2 2 2 2 3\n"
     ]
    }
   ],
   "source": [
    "n = int(input())\n",
    "if n == 0 or n == 1:\n",
    "    print(-1)\n",
    "elif n == 3 or n == 2:\n",
    "    print(1)\n",
    "    print(n)\n",
    "else:\n",
    "    print(n//2)\n",
    "    if n%2 == 0:\n",
    "        for i in range(n//2):\n",
    "            print(2, end =' ')\n",
    "    else:\n",
    "        for i in range(n//2 - 1):\n",
    "            print(2, end =' ')\n",
    "        print(3)"
   ]
  },
  {
   "cell_type": "code",
   "execution_count": 83,
   "metadata": {},
   "outputs": [
    {
     "name": "stdout",
     "output_type": "stream",
     "text": [
      "*****\n",
      "*****\n",
      "*****\n",
      "*****\n",
      "*****\n",
      "\n",
      "*****\n",
      "*   *\n",
      "*   *\n",
      "*   *\n",
      "*****\n",
      "\n",
      "*****\n",
      "*###*\n",
      "*###*\n",
      "*###*\n",
      "*****\n",
      "\n",
      "1 1 1 1 1 \n",
      "2       2\n",
      "3       3\n",
      "4       4\n",
      "5 5 5 5 5 \n"
     ]
    }
   ],
   "source": [
    "n = int(input())\n",
    "for i in range(n):\n",
    "    for j in range(n):\n",
    "        print('*', end='')\n",
    "    print()\n",
    "print()\n",
    "for i in range(n):\n",
    "    if i == 0 or i == n-1:\n",
    "        for j in range(n):\n",
    "            print('*', end='')\n",
    "        print()\n",
    "    else:\n",
    "        print('*',end='')\n",
    "        for j in range(1,n-1):\n",
    "            print(\" \",end='')\n",
    "        print('*',end='')\n",
    "        print()\n",
    "print()\n",
    "for i in range(n):\n",
    "    if i == 0 or i == n-1:\n",
    "        for j in range(n):\n",
    "            print('*', end='')\n",
    "        print()\n",
    "    else:\n",
    "        print('*',end='')\n",
    "        for j in range(1,n-1):\n",
    "            print(\"#\",end='')\n",
    "        print('*',end='')\n",
    "        print()\n",
    "print()\n",
    "for i in range(1,n+1):\n",
    "    if i == 1 or i == n:\n",
    "        for j in range(n):\n",
    "            print(i, end=' ')\n",
    "        print()\n",
    "    else:\n",
    "        print(i , end=' ')\n",
    "        for j in range(2,n):\n",
    "            print(\" \",end=' ')\n",
    "        print(i , end='')\n",
    "        print()"
   ]
  },
  {
   "cell_type": "code",
   "execution_count": 122,
   "metadata": {},
   "outputs": [
    {
     "name": "stdout",
     "output_type": "stream",
     "text": [
      "*\n",
      "**\n",
      "***\n",
      "****\n",
      "*****\n",
      "\n",
      "*****\n",
      "****\n",
      "***\n",
      "**\n",
      "*\n",
      "     \n",
      "    *\n",
      "   **\n",
      "  ***\n",
      " ****\n",
      "*****\n",
      "\n",
      "*****\n",
      " ****\n",
      "  ***\n",
      "   **\n",
      "    *\n",
      "\n",
      "*\n",
      "**\n",
      "* *\n",
      "*  *\n",
      "*****\n"
     ]
    }
   ],
   "source": [
    "n = int(input())\n",
    "for i in range(1,n+1):\n",
    "    for j in range(1,i+1):\n",
    "        print('*' ,end='')\n",
    "    print()\n",
    "print()\n",
    "\n",
    "for i in range(n,0,-1):\n",
    "    for j in range(1,i+1):\n",
    "        print('*' ,end='')\n",
    "    print()\n",
    "print(end='')\n",
    "for i in range(n+1):\n",
    "    for j in range(n-i):\n",
    "        print(' ',end='')\n",
    "    for k in range(i):\n",
    "        print('*',end='')\n",
    "    print()\n",
    "    \n",
    "print()\n",
    "for i in range(n):\n",
    "    for j in range(i):\n",
    "        print(' ',end='')\n",
    "    for k in range(n-i):\n",
    "        print('*',end='')\n",
    "    print()\n",
    "\n",
    "for i in range(n+1):\n",
    "    if i == 0 or i == 1 or i == n:\n",
    "        for j in range(i):\n",
    "            print('*', end='')\n",
    "        print()\n",
    "    else:\n",
    "        print('*',end='')\n",
    "        for k in range(i-2):\n",
    "            print(' ',end='')\n",
    "        print('*',end='')\n",
    "        print()"
   ]
  },
  {
   "cell_type": "code",
   "execution_count": 35,
   "metadata": {},
   "outputs": [
    {
     "name": "stdout",
     "output_type": "stream",
     "text": [
      "1 2 3 4 5\n",
      "6 7 8 9 10\n",
      "11 12 13 14 15\n",
      "16 17 18 19 20\n",
      "21 22 23 24 25\n",
      "\n",
      "1 2 3 4 5 \n",
      "2 3 4 5 6 \n",
      "3 4 5 6 7 \n",
      "4 5 6 7 8 \n",
      "5 6 7 8 9 \n",
      "\n",
      "~~~~1\n",
      "~~~22\n",
      "~~333\n",
      "~4444\n",
      "55555\n",
      "\n",
      "1 \n",
      "2 6 \n",
      "3 7 10 \n",
      "4 8 11 13 \n",
      "5 9 12 14 15 \n"
     ]
    }
   ],
   "source": [
    "n = int(input())\n",
    "k = n*n\n",
    "for i in range(1,k+1):\n",
    "    if i % n == 0:\n",
    "        print(i)\n",
    "    else:\n",
    "        print(i, end=' ')\n",
    "print()\n",
    "j = 1\n",
    "line = n\n",
    "while line != 0:\n",
    "    for i in range(j,n+j):\n",
    "        print(i, end=' ')\n",
    "    print()\n",
    "    j += 1\n",
    "    line -= 1\n",
    "print()\n",
    "for i in range(1,n+1):\n",
    "    for j in range(n-i):\n",
    "        print('~',end='')\n",
    "    for k in range(i):\n",
    "        print(i,end='')\n",
    "    print()\n",
    "print()\n",
    "for i in range(1,n+1):\n",
    "    ktao = i\n",
    "    kc = n - 1\n",
    "    for j in range(i):\n",
    "        print(ktao, end = ' ')\n",
    "        ktao += kc\n",
    "        kc -= 1\n",
    "    print()"
   ]
  },
  {
   "cell_type": "code",
   "execution_count": 37,
   "metadata": {},
   "outputs": [
    {
     "name": "stdout",
     "output_type": "stream",
     "text": [
      "2\n"
     ]
    }
   ],
   "source": [
    "from math import*\n",
    "a , b = map(int, input().split())\n",
    "if a < b:\n",
    "    print(factorial(a))\n",
    "else:\n",
    "    print(factorial(b))"
   ]
  },
  {
   "cell_type": "code",
   "execution_count": 38,
   "metadata": {},
   "outputs": [
    {
     "name": "stdout",
     "output_type": "stream",
     "text": [
      "2.6667\n"
     ]
    }
   ],
   "source": [
    "from math import*\n",
    "n = int(input())\n",
    "sum = 0\n",
    "for i in range(n):\n",
    "    sum += 1/factorial(i)\n",
    "print('%.4f' % sum)"
   ]
  },
  {
   "cell_type": "code",
   "execution_count": 40,
   "metadata": {},
   "outputs": [
    {
     "name": "stdout",
     "output_type": "stream",
     "text": [
      "YES\n"
     ]
    }
   ],
   "source": [
    "a , b , n = map(int , input().split())\n",
    "check = 0\n",
    "for i in range(n//a+1):\n",
    "    for j in range(n//b+1):\n",
    "        if i*a + j*b == n:\n",
    "            check = 1\n",
    "            break\n",
    "if check == 1:\n",
    "    print('YES')\n",
    "else:\n",
    "    print('NO')"
   ]
  },
  {
   "cell_type": "code",
   "execution_count": 45,
   "metadata": {},
   "outputs": [
    {
     "name": "stdout",
     "output_type": "stream",
     "text": [
      "8\n"
     ]
    }
   ],
   "source": [
    "n = int(input())\n",
    "while n // 10 != 0:\n",
    "    while n != 0:\n",
    "        tong = tong + n % 10\n",
    "        n = n // 10\n",
    "    n = tong\n",
    "    tong = 0\n",
    "print(n)"
   ]
  },
  {
   "cell_type": "code",
   "execution_count": 46,
   "metadata": {},
   "outputs": [
    {
     "name": "stdout",
     "output_type": "stream",
     "text": [
      "153\n"
     ]
    }
   ],
   "source": [
    "from math import*\n",
    "n = int(input())\n",
    "sum = 0 \n",
    "for i in range(1,n+1):\n",
    "    sum += factorial(i)\n",
    "print(sum)"
   ]
  },
  {
   "cell_type": "code",
   "execution_count": 47,
   "metadata": {},
   "outputs": [
    {
     "name": "stdout",
     "output_type": "stream",
     "text": [
      "24\n"
     ]
    }
   ],
   "source": [
    "n = int(input())\n",
    "sum = 0\n",
    "list = map(int,input().split())\n",
    "for i in list:\n",
    "    if i%2 == 0:\n",
    "        sum += i \n",
    "print(sum)"
   ]
  },
  {
   "cell_type": "code",
   "execution_count": 50,
   "metadata": {},
   "outputs": [
    {
     "name": "stdout",
     "output_type": "stream",
     "text": [
      "EVEN\n",
      "ODD\n",
      "EVEN\n"
     ]
    }
   ],
   "source": [
    "n = int(input())\n",
    "for i in range(n):\n",
    "    k = int(input())\n",
    "    if k % 2 == 1:\n",
    "        print('ODD')\n",
    "    else:\n",
    "        print('EVEN')"
   ]
  }
 ],
 "metadata": {
  "kernelspec": {
   "display_name": "Python 3",
   "language": "python",
   "name": "python3"
  },
  "language_info": {
   "codemirror_mode": {
    "name": "ipython",
    "version": 3
   },
   "file_extension": ".py",
   "mimetype": "text/x-python",
   "name": "python",
   "nbconvert_exporter": "python",
   "pygments_lexer": "ipython3",
   "version": "3.9.13"
  }
 },
 "nbformat": 4,
 "nbformat_minor": 2
}
