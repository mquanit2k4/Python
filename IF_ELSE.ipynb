{
 "cells": [
  {
   "cell_type": "code",
   "execution_count": 2,
   "metadata": {},
   "outputs": [
    {
     "name": "stdout",
     "output_type": "stream",
     "text": [
      "minh quan\n"
     ]
    }
   ],
   "source": [
    "if 100<200:\n",
    "    print(\"minh quan\")"
   ]
  },
  {
   "cell_type": "code",
   "execution_count": 3,
   "metadata": {},
   "outputs": [
    {
     "name": "stdout",
     "output_type": "stream",
     "text": [
      "10 la so chan\n"
     ]
    }
   ],
   "source": [
    "# Kiem tra mot so xem co phai so chan hay khong\n",
    "a = 10\n",
    "if a%2 == 0 :\n",
    "    print(a, 'la so chan')\n",
    "else :\n",
    "    print(a, 'la so le')"
   ]
  },
  {
   "cell_type": "code",
   "execution_count": 9,
   "metadata": {},
   "outputs": [
    {
     "name": "stdout",
     "output_type": "stream",
     "text": [
      "Thang  6 co 30 ngay\n"
     ]
    }
   ],
   "source": [
    "a = 6\n",
    "if a == 1 or a == 3 or a ==  5 or a == 7 or a == 8 or a == 10 or a == 12 :\n",
    "    print(\"Thang \", a , 'co 31 ngay')\n",
    "elif a == 2:\n",
    "    print('Thang', a ,'co 28/29 ngay')\n",
    "elif a < 1 or a > 12:\n",
    "    print('Khong ton tai thang',a)\n",
    "else:\n",
    "    print(\"Thang \", a , 'co 30 ngay')"
   ]
  },
  {
   "cell_type": "code",
   "execution_count": 17,
   "metadata": {},
   "outputs": [
    {
     "name": "stdout",
     "output_type": "stream",
     "text": [
      "Vu Minh Quan\n",
      "Sinh ngay 10 thang 1 nam 2004\n"
     ]
    }
   ],
   "source": [
    "dateOfBirth = 10\n",
    "monthOfBirth = 1\n",
    "yearOfBirth = 2004\n",
    "if dateOfBirth == 10 and monthOfBirth == 1 and yearOfBirth == 2004: print(\"Vu Minh Quan\"); print(\"Sinh ngay 10 thang 1 nam 2004\")"
   ]
  }
 ],
 "metadata": {
  "kernelspec": {
   "display_name": "Python 3",
   "language": "python",
   "name": "python3"
  },
  "language_info": {
   "codemirror_mode": {
    "name": "ipython",
    "version": 3
   },
   "file_extension": ".py",
   "mimetype": "text/x-python",
   "name": "python",
   "nbconvert_exporter": "python",
   "pygments_lexer": "ipython3",
   "version": "3.9.13"
  }
 },
 "nbformat": 4,
 "nbformat_minor": 2
}
