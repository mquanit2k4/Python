{
 "cells": [
  {
   "cell_type": "code",
   "execution_count": 2,
   "metadata": {},
   "outputs": [
    {
     "name": "stdout",
     "output_type": "stream",
     "text": [
      "False\n"
     ]
    }
   ],
   "source": [
    "from math import*\n",
    "def perfectNum(n):\n",
    "    tong = 1\n",
    "    for i in range(2,isqrt(n)+1):\n",
    "        if n % i == 0:\n",
    "            tong += i\n",
    "            if i != n // i:\n",
    "                tong += n//i\n",
    "    return tong == n\n",
    "if __name__ == '__main__':\n",
    "    print(perfectNum(60))"
   ]
  },
  {
   "cell_type": "code",
   "execution_count": 4,
   "metadata": {},
   "outputs": [
    {
     "name": "stdout",
     "output_type": "stream",
     "text": [
      "True\n"
     ]
    }
   ],
   "source": [
    "# Dung dinh ly Euclid - Euler\n",
    "from math import*\n",
    "def isPrime(n):\n",
    "    if n < 2:\n",
    "        return False\n",
    "    for i in range(2,isqrt(n) + 1 ):\n",
    "        if n % i == 0:\n",
    "            return False\n",
    "    return True\n",
    "\n",
    "def perfect_Num (n):\n",
    "    for p in range (1, 35):\n",
    "        if isPrime(p) and isPrime(2**p - 1):\n",
    "            res = 2**(p-1) * (2**p - 1)\n",
    "            if res == n:\n",
    "                return True\n",
    "    return False\n",
    "\n",
    "if __name__ == '__main__':\n",
    "    n = int(input())\n",
    "    print(perfect_Num(n))"
   ]
  }
 ],
 "metadata": {
  "kernelspec": {
   "display_name": "Python 3",
   "language": "python",
   "name": "python3"
  },
  "language_info": {
   "codemirror_mode": {
    "name": "ipython",
    "version": 3
   },
   "file_extension": ".py",
   "mimetype": "text/x-python",
   "name": "python",
   "nbconvert_exporter": "python",
   "pygments_lexer": "ipython3",
   "version": "3.9.13"
  }
 },
 "nbformat": 4,
 "nbformat_minor": 2
}
