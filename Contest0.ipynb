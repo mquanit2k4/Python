{
 "cells": [
  {
   "cell_type": "code",
   "execution_count": 1,
   "metadata": {},
   "outputs": [
    {
     "name": "stdout",
     "output_type": "stream",
     "text": [
      "5\n",
      "Hello world !\n",
      "28tech C++ programming !\n"
     ]
    }
   ],
   "source": [
    "x = input()\n",
    "print(x)\n",
    "print('Hello world !')\n",
    "print('28tech C++ programming !')"
   ]
  },
  {
   "cell_type": "code",
   "execution_count": 5,
   "metadata": {},
   "outputs": [
    {
     "name": "stdout",
     "output_type": "stream",
     "text": [
      "614\n",
      "12\n",
      "e\n",
      "34.34\n",
      "343.340000000\n"
     ]
    }
   ],
   "source": [
    "a = int(input())\n",
    "b = int(input())\n",
    "c = str(input())\n",
    "d = float(input())\n",
    "e = float(input())\n",
    "print(a,b,c,'%.2f' % d , '%.9f' % e ,sep='\\n')"
   ]
  },
  {
   "cell_type": "code",
   "execution_count": 10,
   "metadata": {},
   "outputs": [
    {
     "name": "stdout",
     "output_type": "stream",
     "text": [
      "9,93,93,98\n",
      "293\n",
      "9198\n"
     ]
    }
   ],
   "source": [
    "x , y , z , t = map(int , input().split())\n",
    "print(y,z,x,t, sep=',')\n",
    "print(x+y+z+t)\n",
    "print(x-y+z*t)"
   ]
  },
  {
   "cell_type": "code",
   "execution_count": 12,
   "metadata": {},
   "outputs": [
    {
     "name": "stdout",
     "output_type": "stream",
     "text": [
      "4\n"
     ]
    }
   ],
   "source": [
    "x , y = map(int , input().split())\n",
    "print(pow(x,y))"
   ]
  },
  {
   "cell_type": "code",
   "execution_count": 14,
   "metadata": {},
   "outputs": [
    {
     "name": "stdout",
     "output_type": "stream",
     "text": [
      "8.06\n",
      "4.021\n"
     ]
    }
   ],
   "source": [
    "from math import*\n",
    "n = int(input())\n",
    "print('%.2f' % sqrt(n))\n",
    "print('%.3f' % pow(n,1/3))"
   ]
  },
  {
   "cell_type": "code",
   "execution_count": 15,
   "metadata": {},
   "outputs": [
    {
     "name": "stdout",
     "output_type": "stream",
     "text": [
      "3\n",
      "4\n",
      "4\n"
     ]
    }
   ],
   "source": [
    "from math import*\n",
    "x = float(input())\n",
    "print(floor(x))\n",
    "print(ceil(x))\n",
    "print(round(x))"
   ]
  },
  {
   "cell_type": "code",
   "execution_count": 17,
   "metadata": {},
   "outputs": [
    {
     "name": "stdout",
     "output_type": "stream",
     "text": [
      "5\n",
      "5\n"
     ]
    }
   ],
   "source": [
    "n = int(input())\n",
    "x = n % 10\n",
    "y = n % 100\n",
    "print(x)\n",
    "if y != 0:\n",
    "    print(y)\n",
    "else:\n",
    "    print(x)"
   ]
  },
  {
   "cell_type": "code",
   "execution_count": 19,
   "metadata": {},
   "outputs": [
    {
     "name": "stdout",
     "output_type": "stream",
     "text": [
      "2\n",
      "2.33\n"
     ]
    }
   ],
   "source": [
    "b , a = map(int , input().split())\n",
    "print(a//b)\n",
    "print('%.2f' % (a/b))"
   ]
  },
  {
   "cell_type": "code",
   "execution_count": 21,
   "metadata": {},
   "outputs": [
    {
     "name": "stdout",
     "output_type": "stream",
     "text": [
      "999999999999993\n"
     ]
    }
   ],
   "source": [
    "n = int(input())\n",
    "print(n//1000)"
   ]
  },
  {
   "cell_type": "code",
   "execution_count": 22,
   "metadata": {},
   "outputs": [
    {
     "name": "stdout",
     "output_type": "stream",
     "text": [
      "191\n"
     ]
    }
   ],
   "source": [
    "a , b = map(int , input().split())\n",
    "print(a%b)"
   ]
  },
  {
   "cell_type": "code",
   "execution_count": 4,
   "metadata": {},
   "outputs": [
    {
     "name": "stdout",
     "output_type": "stream",
     "text": [
      "1140\n",
      "\n",
      "5700\n",
      "\n",
      "285\n",
      "\n",
      "285.000\n",
      "\n"
     ]
    }
   ],
   "source": [
    "n = int(input())\n",
    "print(2*n, end='\\n\\n')\n",
    "print(10*n, end='\\n\\n')\n",
    "print(n//2, end='\\n\\n')\n",
    "print('%.3f' % (n/2) ,end='\\n\\n')"
   ]
  },
  {
   "cell_type": "code",
   "execution_count": 5,
   "metadata": {},
   "outputs": [
    {
     "name": "stdout",
     "output_type": "stream",
     "text": [
      "54\n"
     ]
    }
   ],
   "source": [
    "x , y = map(int , input().split())\n",
    "print(5*x+2*y+x*y)"
   ]
  },
  {
   "cell_type": "code",
   "execution_count": 9,
   "metadata": {},
   "outputs": [
    {
     "name": "stdout",
     "output_type": "stream",
     "text": [
      "617\n",
      "37\n",
      "778\n",
      "37\n"
     ]
    }
   ],
   "source": [
    "x = int(input())\n",
    "y = int(input())\n",
    "z = int(input())\n",
    "t = int(input())\n",
    "print(max(x,y))\n",
    "print(min(z,t))\n",
    "print(max([x,y,z]))\n",
    "print(min([x,y,z,t]))"
   ]
  },
  {
   "cell_type": "code",
   "execution_count": 10,
   "metadata": {},
   "outputs": [
    {
     "name": "stdout",
     "output_type": "stream",
     "text": [
      "6\n"
     ]
    }
   ],
   "source": [
    "a , b = map(int , input().split())\n",
    "print(b-a+1)"
   ]
  },
  {
   "cell_type": "code",
   "execution_count": 11,
   "metadata": {},
   "outputs": [
    {
     "name": "stdout",
     "output_type": "stream",
     "text": [
      "SO VO MUA DUOC LA 40 !!!!!\n"
     ]
    }
   ],
   "source": [
    "x , n = map(int , input().split())\n",
    "print('SO VO MUA DUOC LA:' , x//n, '!!!!!')"
   ]
  },
  {
   "cell_type": "code",
   "execution_count": 13,
   "metadata": {},
   "outputs": [
    {
     "name": "stdout",
     "output_type": "stream",
     "text": [
      "8  9  2  10\n",
      "9--2--8--10\n",
      "16,27,8,50\n",
      "KET THUC !!\n"
     ]
    }
   ],
   "source": [
    "x , y , z , t = map(int, input().split())\n",
    "print(x,y,z,t, sep='  ' , end = '\\n\\n')\n",
    "print(y,z,x,t, sep='--', end = '\\n\\n')\n",
    "print(2*x,3*y,4*z,5*t, sep=',', end = '\\n\\n')\n",
    "print('KET THUC !!')"
   ]
  }
 ],
 "metadata": {
  "kernelspec": {
   "display_name": "Python 3",
   "language": "python",
   "name": "python3"
  },
  "language_info": {
   "codemirror_mode": {
    "name": "ipython",
    "version": 3
   },
   "file_extension": ".py",
   "mimetype": "text/x-python",
   "name": "python",
   "nbconvert_exporter": "python",
   "pygments_lexer": "ipython3",
   "version": "3.9.13"
  }
 },
 "nbformat": 4,
 "nbformat_minor": 2
}
