{
 "cells": [
  {
   "cell_type": "code",
   "execution_count": 2,
   "metadata": {},
   "outputs": [
    {
     "name": "stdout",
     "output_type": "stream",
     "text": [
      "30\n",
      "300\n"
     ]
    }
   ],
   "source": [
    "# Function\n",
    "def sum (a,b):\n",
    "    res = a + b \n",
    "    return res\n",
    "m , n = 10 , 20\n",
    "print(sum(m,n))\n",
    "\n",
    "x , y = 100 , 200\n",
    "print(sum(x,y))\n",
    "    "
   ]
  },
  {
   "cell_type": "code",
   "execution_count": 1,
   "metadata": {},
   "outputs": [
    {
     "name": "stdout",
     "output_type": "stream",
     "text": [
      "Minh Quan\n"
     ]
    }
   ],
   "source": [
    "def hello():\n",
    "    print('Minh Quan')\n",
    "if __name__ == '__main__':\n",
    "    hello()"
   ]
  },
  {
   "cell_type": "code",
   "execution_count": 3,
   "metadata": {},
   "outputs": [
    {
     "name": "stdout",
     "output_type": "stream",
     "text": [
      "hello Quan\n",
      "hello Minh\n"
     ]
    }
   ],
   "source": [
    "def hello(name):\n",
    "    print('hello' , name)\n",
    "if __name__ == '__main__':\n",
    "    hello(\"Quan\")\n",
    "    hello(\"Minh\")"
   ]
  },
  {
   "cell_type": "code",
   "execution_count": 4,
   "metadata": {},
   "outputs": [
    {
     "name": "stdout",
     "output_type": "stream",
     "text": [
      "hello : Vu Minh Quan\n"
     ]
    }
   ],
   "source": [
    "# Truyền nhiều tham số cho hàm\n",
    "def hello(name1, name2 , name3 ):\n",
    "    print(\"hello :\", name1, name3, name2)\n",
    "if __name__ == '__main__':\n",
    "    hello('Vu' , 'Quan' , 'Minh')"
   ]
  },
  {
   "cell_type": "code",
   "execution_count": 6,
   "metadata": {},
   "outputs": [
    {
     "name": "stdout",
     "output_type": "stream",
     "text": [
      "hello : Vu Minh Quan\n"
     ]
    }
   ],
   "source": [
    "# Keyword argument\n",
    "def hello(name1, name2 , name3 ):\n",
    "    print(\"hello :\", name1, name2, name3)\n",
    "hello(name2='Minh', name3='Quan' , name1='Vu')"
   ]
  },
  {
   "cell_type": "code",
   "execution_count": 7,
   "metadata": {},
   "outputs": [
    {
     "name": "stdout",
     "output_type": "stream",
     "text": [
      "Quan student\n",
      "Quan developer\n"
     ]
    }
   ],
   "source": [
    "# Default argument\n",
    "def infor (name , job = 'developer'):\n",
    "    print(name , job)\n",
    "infor('Quan', 'student')\n",
    "infor('Quan')"
   ]
  },
  {
   "cell_type": "code",
   "execution_count": 9,
   "metadata": {},
   "outputs": [
    {
     "name": "stdout",
     "output_type": "stream",
     "text": [
      "(1, 2, 3, 4, 5, 6)\n",
      "{'name': 'Quan', 'age': '20', 'country': 'Thanh Hoa'}\n"
     ]
    }
   ],
   "source": [
    "# Variable length argument (*args & **kwargs)\n",
    "def printNum (*args):\n",
    "    print(args)\n",
    "\n",
    "def inforSV (**kwargs):\n",
    "    print(kwargs)\n",
    "printNum(1,2,3,4,5,6,)\n",
    "inforSV(name = 'Quan' , age = '20' , country = 'Thanh Hoa')"
   ]
  }
 ],
 "metadata": {
  "kernelspec": {
   "display_name": "Python 3",
   "language": "python",
   "name": "python3"
  },
  "language_info": {
   "codemirror_mode": {
    "name": "ipython",
    "version": 3
   },
   "file_extension": ".py",
   "mimetype": "text/x-python",
   "name": "python",
   "nbconvert_exporter": "python",
   "pygments_lexer": "ipython3",
   "version": "3.9.13"
  }
 },
 "nbformat": 4,
 "nbformat_minor": 2
}
