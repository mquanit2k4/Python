{
 "cells": [
  {
   "cell_type": "code",
   "execution_count": 6,
   "metadata": {},
   "outputs": [
    {
     "name": "stdout",
     "output_type": "stream",
     "text": [
      "1000 không là số chính phương\n",
      "1000 là số lập phương\n"
     ]
    }
   ],
   "source": [
    "# Square Number\n",
    "from math import*\n",
    "def squareNum(n):\n",
    "    k = isqrt(n)\n",
    "    if k*k == n:\n",
    "        return True\n",
    "    else:\n",
    "        return False\n",
    "\n",
    "# Cube Number\n",
    "def cubeNum(n):\n",
    "    k = int(pow(n,1/3))\n",
    "    return k**3 == n or (k+1)**3 == n\n",
    "\n",
    "if __name__ == '__main__':\n",
    "    n = int(input())\n",
    "    if squareNum(n):\n",
    "        print(n,'là số chính phương')\n",
    "    else:\n",
    "        print(n,'không là số chính phương')\n",
    "    if cubeNum(n):\n",
    "        print(n,'là số lập phương')\n",
    "    else:\n",
    "        print(n,'không là số lập phương')"
   ]
  },
  {
   "cell_type": "code",
   "execution_count": null,
   "metadata": {},
   "outputs": [],
   "source": []
  }
 ],
 "metadata": {
  "kernelspec": {
   "display_name": "Python 3",
   "language": "python",
   "name": "python3"
  },
  "language_info": {
   "codemirror_mode": {
    "name": "ipython",
    "version": 3
   },
   "file_extension": ".py",
   "mimetype": "text/x-python",
   "name": "python",
   "nbconvert_exporter": "python",
   "pygments_lexer": "ipython3",
   "version": "3.9.13"
  }
 },
 "nbformat": 4,
 "nbformat_minor": 2
}
